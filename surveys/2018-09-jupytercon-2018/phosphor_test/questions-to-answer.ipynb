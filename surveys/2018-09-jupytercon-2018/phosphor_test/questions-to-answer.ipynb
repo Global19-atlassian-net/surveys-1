{
 "cells": [
  {
   "cell_type": "code",
   "execution_count": 1,
   "metadata": {},
   "outputs": [],
   "source": [
    "import matplotlib.pyplot as plt\n",
    "import pandas as pd\n",
    "import numpy as np\n",
    "import seaborn as sns\n",
    "\n",
    "import user_testing_data\n",
    "\n",
    "sns.set()"
   ]
  },
  {
   "cell_type": "code",
   "execution_count": 2,
   "metadata": {},
   "outputs": [
    {
     "data": {
      "text/html": [
       "<div>\n",
       "<style scoped>\n",
       "    .dataframe tbody tr th:only-of-type {\n",
       "        vertical-align: middle;\n",
       "    }\n",
       "\n",
       "    .dataframe tbody tr th {\n",
       "        vertical-align: top;\n",
       "    }\n",
       "\n",
       "    .dataframe thead th {\n",
       "        text-align: right;\n",
       "    }\n",
       "</style>\n",
       "<table border=\"1\" class=\"dataframe\">\n",
       "  <thead>\n",
       "    <tr style=\"text-align: right;\">\n",
       "      <th></th>\n",
       "      <th>Code</th>\n",
       "      <th>Test</th>\n",
       "      <th>Tab</th>\n",
       "      <th>Center</th>\n",
       "      <th>L/B</th>\n",
       "      <th>Task</th>\n",
       "      <th>ST</th>\n",
       "      <th>CT</th>\n",
       "      <th>ToT</th>\n",
       "      <th>Init</th>\n",
       "      <th>CFA</th>\n",
       "      <th>aCFA</th>\n",
       "      <th>FS</th>\n",
       "      <th>FCA</th>\n",
       "      <th>CEDZ</th>\n",
       "      <th>Notes</th>\n",
       "      <th>source</th>\n",
       "      <th>target</th>\n",
       "      <th>position</th>\n",
       "    </tr>\n",
       "  </thead>\n",
       "  <tbody>\n",
       "    <tr>\n",
       "      <th>0</th>\n",
       "      <td>TacoBullMonsterSurf</td>\n",
       "      <td>6</td>\n",
       "      <td>N</td>\n",
       "      <td>Y</td>\n",
       "      <td>B</td>\n",
       "      <td>1-2</td>\n",
       "      <td>2:22</td>\n",
       "      <td>2:29</td>\n",
       "      <td>7.0</td>\n",
       "      <td>G to RTDZ</td>\n",
       "      <td>G to RTDZ</td>\n",
       "      <td>G to TEDZ</td>\n",
       "      <td>0.0</td>\n",
       "      <td>NaN</td>\n",
       "      <td>NaN</td>\n",
       "      <td>Would have landed in TaDZ.</td>\n",
       "      <td>G</td>\n",
       "      <td>R</td>\n",
       "      <td>T</td>\n",
       "    </tr>\n",
       "    <tr>\n",
       "      <th>1</th>\n",
       "      <td>PopeyeVeganMonkeyMoogle</td>\n",
       "      <td>2</td>\n",
       "      <td>Y</td>\n",
       "      <td>Y</td>\n",
       "      <td>B</td>\n",
       "      <td>4-1</td>\n",
       "      <td>3:51</td>\n",
       "      <td>4:02</td>\n",
       "      <td>11.0</td>\n",
       "      <td>G to BBDZ</td>\n",
       "      <td>G to BEDZ</td>\n",
       "      <td>NaN</td>\n",
       "      <td>1.0</td>\n",
       "      <td>G to BEDZ</td>\n",
       "      <td>Y</td>\n",
       "      <td>Went to middle to find EDZ</td>\n",
       "      <td>G</td>\n",
       "      <td>B</td>\n",
       "      <td>B</td>\n",
       "    </tr>\n",
       "    <tr>\n",
       "      <th>2</th>\n",
       "      <td>FalseDonkey</td>\n",
       "      <td>1</td>\n",
       "      <td>Y</td>\n",
       "      <td>Y</td>\n",
       "      <td>L</td>\n",
       "      <td>4-1</td>\n",
       "      <td>4:12</td>\n",
       "      <td>4:44</td>\n",
       "      <td>32.0</td>\n",
       "      <td>G to REDZ</td>\n",
       "      <td>G to BEDZ</td>\n",
       "      <td>NaN</td>\n",
       "      <td>2.0</td>\n",
       "      <td>Messy Reorganize</td>\n",
       "      <td>Y</td>\n",
       "      <td>Went to middle for EDZ. Tried to find EDZ, but...</td>\n",
       "      <td>G</td>\n",
       "      <td>E</td>\n",
       "      <td>R</td>\n",
       "    </tr>\n",
       "    <tr>\n",
       "      <th>3</th>\n",
       "      <td>SimpleNeptuneMachineDamage</td>\n",
       "      <td>5</td>\n",
       "      <td>N</td>\n",
       "      <td>Y</td>\n",
       "      <td>L</td>\n",
       "      <td>4-1</td>\n",
       "      <td>3:35</td>\n",
       "      <td>3:41</td>\n",
       "      <td>6.0</td>\n",
       "      <td>G to BEDZ</td>\n",
       "      <td>G to BEDZ</td>\n",
       "      <td>NaN</td>\n",
       "      <td>0.0</td>\n",
       "      <td>NaN</td>\n",
       "      <td>Y</td>\n",
       "      <td>Went to center for EDZ</td>\n",
       "      <td>G</td>\n",
       "      <td>E</td>\n",
       "      <td>B</td>\n",
       "    </tr>\n",
       "    <tr>\n",
       "      <th>4</th>\n",
       "      <td>HelloGoodbyeHelloHugo</td>\n",
       "      <td>4</td>\n",
       "      <td>Y</td>\n",
       "      <td>N</td>\n",
       "      <td>B</td>\n",
       "      <td>1-2</td>\n",
       "      <td>2:08</td>\n",
       "      <td>2:20</td>\n",
       "      <td>12.0</td>\n",
       "      <td>G to RTaDZ</td>\n",
       "      <td>G to RBDZ</td>\n",
       "      <td>NaN</td>\n",
       "      <td>1.0</td>\n",
       "      <td>G to RTDZ</td>\n",
       "      <td>NaN</td>\n",
       "      <td>Was confused about how drop zones worked, felt...</td>\n",
       "      <td>G</td>\n",
       "      <td>R</td>\n",
       "      <td>Ta</td>\n",
       "    </tr>\n",
       "  </tbody>\n",
       "</table>\n",
       "</div>"
      ],
      "text/plain": [
       "                         Code  Test Tab Center L/B Task    ST    CT   ToT  \\\n",
       "0         TacoBullMonsterSurf     6   N      Y   B  1-2  2:22  2:29   7.0   \n",
       "1     PopeyeVeganMonkeyMoogle     2   Y      Y   B  4-1  3:51  4:02  11.0   \n",
       "2                 FalseDonkey     1   Y      Y   L  4-1  4:12  4:44  32.0   \n",
       "3  SimpleNeptuneMachineDamage     5   N      Y   L  4-1  3:35  3:41   6.0   \n",
       "4       HelloGoodbyeHelloHugo     4   Y      N   B  1-2  2:08  2:20  12.0   \n",
       "\n",
       "         Init        CFA       aCFA   FS               FCA CEDZ  \\\n",
       "0   G to RTDZ  G to RTDZ  G to TEDZ  0.0               NaN  NaN   \n",
       "1   G to BBDZ  G to BEDZ        NaN  1.0         G to BEDZ    Y   \n",
       "2   G to REDZ  G to BEDZ        NaN  2.0  Messy Reorganize    Y   \n",
       "3   G to BEDZ  G to BEDZ        NaN  0.0               NaN    Y   \n",
       "4  G to RTaDZ  G to RBDZ        NaN  1.0         G to RTDZ  NaN   \n",
       "\n",
       "                                               Notes source target position  \n",
       "0                         Would have landed in TaDZ.      G      R        T  \n",
       "1                         Went to middle to find EDZ      G      B        B  \n",
       "2  Went to middle for EDZ. Tried to find EDZ, but...      G      E        R  \n",
       "3                             Went to center for EDZ      G      E        B  \n",
       "4  Was confused about how drop zones worked, felt...      G      R       Ta  "
      ]
     },
     "execution_count": 2,
     "metadata": {},
     "output_type": "execute_result"
    }
   ],
   "source": [
    "df = user_testing_data.load_data()\n",
    "df.head(n=5)"
   ]
  },
  {
   "cell_type": "markdown",
   "metadata": {},
   "source": [
    "# Should we add Tab dropzones?"
   ]
  },
  {
   "cell_type": "markdown",
   "metadata": {},
   "source": [
    "Currently, JupyterLab does not support Tab dropzones. The following tests compare UX when Tab dropzones are available versus not available. "
   ]
  },
  {
   "cell_type": "markdown",
   "metadata": {},
   "source": [
    "## Accuracy with Tabs (did they fail?)"
   ]
  },
  {
   "cell_type": "code",
   "execution_count": 3,
   "metadata": {},
   "outputs": [
    {
     "data": {
      "text/plain": [
       "<matplotlib.legend.Legend at 0x11375e898>"
      ]
     },
     "execution_count": 3,
     "metadata": {},
     "output_type": "execute_result"
    },
    {
     "data": {
      "image/png": "[encoded data removed]",
      "text/plain": [
       "<Figure size 432x144 with 1 Axes>"
      ]
     },
     "metadata": {},
     "output_type": "display_data"
    }
   ],
   "source": [
    "# Subset dataframes\n",
    "with_tab = df[(df.Tab == 'Y') & (df.Center == 'N') & (df.FS.isin([0,1,2]))]\n",
    "with_tab_total = len(with_tab)\n",
    "with_center = df[(df.Tab == 'N') & (df.Center == 'Y') & (df.FS.isin([0,1,2]))]\n",
    "with_center_total = len(with_center)\n",
    "\n",
    "# Plot data\n",
    "fig, ax = plt.subplots(figsize=(6,2))\n",
    "\n",
    "y = np.array([0, 2, 4])\n",
    "x = [\n",
    "    len(with_tab[with_tab.FS == 2]) / with_tab_total, \n",
    "    len(with_tab[with_tab.FS == 1]) / with_tab_total, \n",
    "    len(with_tab[with_tab.FS == 0]) / with_tab_total, \n",
    "]\n",
    "\n",
    "x2 = [\n",
    "    len(with_center[with_center.FS == 2]) / with_center_total, \n",
    "    len(with_center[with_center.FS == 1]) / with_center_total, \n",
    "    len(with_center[with_center.FS == 0]) / with_center_total, \n",
    "]\n",
    "\n",
    "ax.barh(y+.5, x2, height=0.5, align='edge', label=\"center\")\n",
    "ax.barh(y, x, height=0.5, align='edge', label=\"tab\")\n",
    "\n",
    "ax.set_yticks([0.5, 2.5, 4.5])\n",
    "ax.set_yticklabels([\"Failed\", \"Second success\", \"First success\"])\n",
    "ax.set_xlabel(\"Fraction of Tests\")\n",
    "\n",
    "ax.legend()"
   ]
  },
  {
   "cell_type": "markdown",
   "metadata": {},
   "source": [
    "## Accuracy in Task 3, specifically."
   ]
  },
  {
   "cell_type": "code",
   "execution_count": 4,
   "metadata": {},
   "outputs": [
    {
     "data": {
      "text/plain": [
       "<matplotlib.legend.Legend at 0x113708358>"
      ]
     },
     "execution_count": 4,
     "metadata": {},
     "output_type": "execute_result"
    },
    {
     "data": {
      "image/png": "[encoded data removed]",
      "text/plain": [
       "<Figure size 432x144 with 1 Axes>"
      ]
     },
     "metadata": {},
     "output_type": "display_data"
    }
   ],
   "source": [
    "# Subset dataframes\n",
    "filters = (\n",
    "    (df.Tab == 'Y') &            # Tab is Y\n",
    "    (df.Center == 'N') &         # Center is N\n",
    "    (df.FS.isin([0,1,2])) &      # First success score.\n",
    "    (df.Task.isin(['3-1', '3-2'])) # Must be Task 3\n",
    ")\n",
    "with_tab = df[filters]\n",
    "with_tab_total = len(with_tab)\n",
    "\n",
    "\n",
    "filters = (\n",
    "    (df.Tab == 'N') &            # Tab is Y\n",
    "    (df.Center == 'Y') &         # Center is N\n",
    "    (df.FS.isin([0,1,2])) &       # First success score.\n",
    "    (df.Task.isin(['3-1', '3-2'])) # Must be Task 3\n",
    ")\n",
    "with_center = df[filters]\n",
    "with_center_total = len(with_center)\n",
    "\n",
    "# Plot data\n",
    "fig, ax = plt.subplots(figsize=(6,2))\n",
    "\n",
    "y = np.array([0, 2, 4])\n",
    "x = [\n",
    "    len(with_tab[with_tab.FS == 2]) / with_tab_total, \n",
    "    len(with_tab[with_tab.FS == 1]) / with_tab_total, \n",
    "    len(with_tab[with_tab.FS == 0]) / with_tab_total, \n",
    "]\n",
    "\n",
    "x2 = [\n",
    "    len(with_center[with_center.FS == 2]) / with_center_total, \n",
    "    len(with_center[with_center.FS == 1]) / with_center_total, \n",
    "    len(with_center[with_center.FS == 0]) / with_center_total, \n",
    "]\n",
    "\n",
    "ax.barh(y+.5, x2, height=0.5, align='edge', label=\"center\")\n",
    "ax.barh(y, x, height=0.5, align='edge', label=\"tab\")\n",
    "\n",
    "ax.set_yticks([0.5, 2.5, 4.5])\n",
    "ax.set_yticklabels([\"Failed\", \"Second success\", \"First success\"])\n",
    "ax.set_xlabel(\"Fraction of Tests\")\n",
    "\n",
    "ax.legend()"
   ]
  },
  {
   "cell_type": "markdown",
   "metadata": {},
   "source": [
    "## Did tabs help improve speed?"
   ]
  },
  {
   "cell_type": "code",
   "execution_count": 5,
   "metadata": {},
   "outputs": [
    {
     "data": {
      "text/plain": [
       "Text(0.5,1,'Kernel density estimation')"
      ]
     },
     "execution_count": 5,
     "metadata": {},
     "output_type": "execute_result"
    },
    {
     "data": {
      "image/png": "[encoded data removed]",
      "text/plain": [
       "<Figure size 432x288 with 1 Axes>"
      ]
     },
     "metadata": {},
     "output_type": "display_data"
    }
   ],
   "source": [
    "filters = (\n",
    "    (df.Tab == \"N\") &       # Tab no\n",
    "    (df.Center == \"Y\") &    # Center yes\n",
    "    (df.ToT < 300)          # Remove outliers\n",
    ")\n",
    "notab_df = df[filters]\n",
    "\n",
    "filters = (\n",
    "    (df.Tab == \"Y\") &       # Tab yes\n",
    "    (df.Center == \"Y\") &    # Center yes\n",
    "    (df.ToT < 300)          # Remove outliers\n",
    ")\n",
    "tab_df = df[filters]\n",
    "\n",
    "\n",
    "fig, ax = plt.subplots()\n",
    "\n",
    "sns.distplot(notab_df.ToT.astype(float), ax=ax, rug=True, hist=False, kde_kws={\"shade\": True}, label=\"No Tab\")\n",
    "sns.distplot(tab_df.ToT.astype(float), ax=ax, rug=True, hist=False, kde_kws={\"shade\": True}, label=\"Tab\")\n",
    "\n",
    "ax.set_xlabel(\"Time on Task (s)\")\n",
    "ax.set_yticklabels([])\n",
    "ax.set_title(\"Kernel density estimation\")\n",
    "#x = ax.hist(notab_df.ToT.astype(float), bins=20)"
   ]
  },
  {
   "cell_type": "markdown",
   "metadata": {},
   "source": [
    "## What did users use (center drop-zones or tabs)?"
   ]
  },
  {
   "cell_type": "code",
   "execution_count": 6,
   "metadata": {},
   "outputs": [
    {
     "data": {
      "text/plain": [
       "Text(0.5,1,'What drop-zones did users use?')"
      ]
     },
     "execution_count": 6,
     "metadata": {},
     "output_type": "execute_result"
    },
    {
     "data": {
      "image/png": "[encoded data removed]",
      "text/plain": [
       "<Figure size 144x360 with 1 Axes>"
      ]
     },
     "metadata": {},
     "output_type": "display_data"
    }
   ],
   "source": [
    "task_3 = df[(df.Task == \"3-1\") | (df.Task == \"3-2\")]\n",
    "\n",
    "tab = len(task_3[task_3.position == \"Ta\"])\n",
    "center = len(task_3[task_3.position.isin([\"L\", \"R\", \"T\", \"C\"])])\n",
    "\n",
    "x = [\"Tab\", \"Center\"]\n",
    "y = [tab, center]\n",
    "\n",
    "fig, ax = plt.subplots(figsize=(2,5))\n",
    "ax.bar(x, y, color=[\"C0\", \"C1\"])\n",
    "ax.set_ylabel(\"Number of Records\")\n",
    "ax.set_title(\"What drop-zones did users use?\", fontsize=14)"
   ]
  },
  {
   "cell_type": "markdown",
   "metadata": {},
   "source": [
    "# Box versus Line"
   ]
  },
  {
   "cell_type": "markdown",
   "metadata": {},
   "source": [
    "Currently, JupyterLab's UI uses boxes to inform the user where a panel will be dropped when the user is dragging it across the interface. \n",
    "\n",
    "An alternative UX we proposed were lines that inform where the panel will be dropped. The following results compare these two UXs."
   ]
  },
  {
   "cell_type": "markdown",
   "metadata": {},
   "source": [
    "## Are users more accurate with box or line?"
   ]
  },
  {
   "cell_type": "code",
   "execution_count": 7,
   "metadata": {},
   "outputs": [
    {
     "data": {
      "text/plain": [
       "<matplotlib.legend.Legend at 0x1a1fafef60>"
      ]
     },
     "execution_count": 7,
     "metadata": {},
     "output_type": "execute_result"
    },
    {
     "data": {
      "image/png": "[encoded data removed]",
      "text/plain": [
       "<Figure size 432x144 with 1 Axes>"
      ]
     },
     "metadata": {},
     "output_type": "display_data"
    }
   ],
   "source": [
    "# Line dropzone dataframe\n",
    "filters = (\n",
    "    (df[\"L/B\"] == 'L') &         # Tab is Y\n",
    "    (df.FS.isin([0,1,2]))      # First success score.\n",
    ")\n",
    "line_dz = df[filters]\n",
    "norm = len(line_dz)\n",
    "\n",
    "x1 = [\n",
    "    len(line_dz[line_dz.FS == 2]) / norm, \n",
    "    len(line_dz[line_dz.FS == 1]) / norm, \n",
    "    len(line_dz[line_dz.FS == 0]) / norm, \n",
    "]\n",
    "\n",
    "# Box dropzone dataframe\n",
    "filters = (\n",
    "    (df[\"L/B\"] == 'B') &         # Tab is Y\n",
    "    (df.FS.isin([0,1,2]))      # First success score.\n",
    ")\n",
    "box_dz = df[filters]\n",
    "norm = len(box_dz)\n",
    "\n",
    "x2 = [\n",
    "    len(box_dz[box_dz.FS == 2]) / norm, \n",
    "    len(box_dz[box_dz.FS == 1]) / norm, \n",
    "    len(box_dz[box_dz.FS == 0]) / norm, \n",
    "]\n",
    "y = np.array([0, 2, 4])\n",
    "\n",
    "# Plot data\n",
    "fig, ax = plt.subplots(figsize=(6,2))\n",
    "\n",
    "ax.barh(y+.5, x2, height=0.5, align='edge', label=\"Box\")\n",
    "ax.barh(y, x1, height=0.5, align='edge', label=\"Line\")\n",
    "\n",
    "ax.set_yticks([0.5, 2.5, 4.5])\n",
    "ax.set_yticklabels([\"Failed\", \"Second success\", \"First success\"])\n",
    "ax.set_xlabel(\"Fraction of Tests\")\n",
    "ax.set_title(\"\")\n",
    "ax.legend()"
   ]
  },
  {
   "cell_type": "markdown",
   "metadata": {},
   "source": [
    "## How long did it take users to complete tasks?"
   ]
  },
  {
   "cell_type": "code",
   "execution_count": 8,
   "metadata": {},
   "outputs": [
    {
     "data": {
      "text/plain": [
       "Text(0.5,1,'Kernel density estimation')"
      ]
     },
     "execution_count": 8,
     "metadata": {},
     "output_type": "execute_result"
    },
    {
     "data": {
      "image/png": "[encoded data removed]",
      "text/plain": [
       "<Figure size 432x288 with 1 Axes>"
      ]
     },
     "metadata": {},
     "output_type": "display_data"
    }
   ],
   "source": [
    "filters = (\n",
    "    (df[\"L/B\"] == 'B') &         # Tab is Y\n",
    "    (df.ToT < 300)          # Remove outliers\n",
    ")\n",
    "line_dz = df[filters]\n",
    "\n",
    "filters = (\n",
    "    (df[\"L/B\"] == 'L') &         # Tab is Y\n",
    "    (df.ToT < 300)          # Remove outliers\n",
    ")\n",
    "box_dz = df[filters]\n",
    "\n",
    "\n",
    "fig, ax = plt.subplots()\n",
    "\n",
    "sns.distplot(line_dz.ToT.astype(float), ax=ax, rug=True, hist=False, kde_kws={\"shade\": True}, label=\"Box\")\n",
    "sns.distplot(box_dz.ToT.astype(float), ax=ax, rug=True, hist=False, kde_kws={\"shade\": True}, label=\"Line\")\n",
    "\n",
    "ax.set_xlabel(\"Time on Task (s)\")\n",
    "ax.set_yticklabels([])\n",
    "ax.set_title(\"Kernel density estimation\")\n",
    "#x = ax.hist(notab_df.ToT.astype(float), bins=20)"
   ]
  },
  {
   "cell_type": "markdown",
   "metadata": {},
   "source": [
    "# Edge drop zones."
   ]
  },
  {
   "cell_type": "markdown",
   "metadata": {},
   "source": [
    "## Which are used more: edge drop zones or panel drop zones?"
   ]
  },
  {
   "cell_type": "code",
   "execution_count": 16,
   "metadata": {},
   "outputs": [
    {
     "data": {
      "text/plain": [
       "Text(0.5,1,'What drop-zones did users use?')"
      ]
     },
     "execution_count": 16,
     "metadata": {},
     "output_type": "execute_result"
    },
    {
     "data": {
      "image/png": "[encoded data removed]",
      "text/plain": [
       "<Figure size 144x360 with 1 Axes>"
      ]
     },
     "metadata": {},
     "output_type": "display_data"
    }
   ],
   "source": [
    "# Edge dropzone dataframe\n",
    "dff = df[df.Task.isin(['4-1', '4-2', '5-1'])]\n",
    "norm = len(dff)\n",
    "\n",
    "edge = len(dff[dff.target == 'E'])\n",
    "center = len(dff[dff.target.isin(['R', 'G', 'B'])])\n",
    "\n",
    "x = [\"Nesting\", \"Edge\"]\n",
    "y = [center, edge]\n",
    "\n",
    "fig, ax = plt.subplots(figsize=(2,5))\n",
    "ax.bar(x, y, color=[\"C0\", \"C1\"])\n",
    "ax.set_ylabel(\"Number of Records\")\n",
    "ax.set_title(\"What drop-zones did users use?\", fontsize=14)"
   ]
  },
  {
   "cell_type": "code",
   "execution_count": null,
   "metadata": {},
   "outputs": [],
   "source": []
  },
  {
   "cell_type": "markdown",
   "metadata": {},
   "source": [
    "## How accurate are users with edge drop zones?"
   ]
  },
  {
   "cell_type": "code",
   "execution_count": 15,
   "metadata": {},
   "outputs": [
    {
     "data": {
      "text/plain": [
       "<matplotlib.legend.Legend at 0x1a202b0470>"
      ]
     },
     "execution_count": 15,
     "metadata": {},
     "output_type": "execute_result"
    },
    {
     "data": {
      "image/png": "[encoded data removed]",
      "text/plain": [
       "<Figure size 432x144 with 1 Axes>"
      ]
     },
     "metadata": {},
     "output_type": "display_data"
    }
   ],
   "source": [
    "# Edge dropzone dataframe\n",
    "dff = df[df.Task.isin(['4-1', '4-2', '5-1'])]\n",
    "norm = len(dff)\n",
    "filters = (\n",
    "    (dff.target == 'E') &\n",
    "    (dff.FS.isin([0,1,2]))                    # First success score.\n",
    ")\n",
    "edge_dz = dff[filters]\n",
    "\n",
    "x1 = [\n",
    "    len(edge_dz[edge_dz.FS == 2]) / norm, \n",
    "    len(edge_dz[edge_dz.FS == 1]) / norm, \n",
    "    len(edge_dz[edge_dz.FS == 0]) / norm, \n",
    "]\n",
    "\n",
    "# center dropzone dataframe\n",
    "filters = (\n",
    "    (dff.target.isin(['R', 'G', 'B'])) &\n",
    "    (dff.FS.isin([0,1,2]))                    # First success score.\n",
    ")\n",
    "center_dz = dff[filters]\n",
    "\n",
    "x2 = [\n",
    "    len(center_dz[center_dz.FS == 2]) / norm, \n",
    "    len(center_dz[center_dz.FS == 1]) / norm, \n",
    "    len(center_dz[center_dz.FS == 0]) / norm, \n",
    "]\n",
    "y = np.array([0, 2, 4])\n",
    "\n",
    "# Plot data\n",
    "fig, ax = plt.subplots(figsize=(6,2))\n",
    "\n",
    "ax.barh(y+.5, x2, height=0.5, align='edge', label=\"nested\")\n",
    "ax.barh(y, x1, height=0.5, align='edge', label=\"edge drop zones\")\n",
    "\n",
    "ax.set_yticks([0.5, 2.5, 4.5])\n",
    "ax.set_yticklabels([\"Failed\", \"Second success\", \"First success\"])\n",
    "ax.set_xlabel(\"Fraction of Tests\")\n",
    "ax.set_title(\"\")\n",
    "ax.legend()"
   ]
  },
  {
   "cell_type": "code",
   "execution_count": null,
   "metadata": {},
   "outputs": [],
   "source": []
  }
 ],
 "metadata": {
  "kernelspec": {
   "display_name": "omnipotent (Python 3.6)",
   "language": "python",
   "name": "omnipotent"
  },
  "language_info": {
   "codemirror_mode": {
    "name": "ipython",
    "version": 3
   },
   "file_extension": ".py",
   "mimetype": "text/x-python",
   "name": "python",
   "nbconvert_exporter": "python",
   "pygments_lexer": "ipython3",
   "version": "3.6.5"
  }
 },
 "nbformat": 4,
 "nbformat_minor": 2
}
