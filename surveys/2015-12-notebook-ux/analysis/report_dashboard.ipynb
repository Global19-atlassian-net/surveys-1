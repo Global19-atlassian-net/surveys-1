{
 "cells": [
  {
   "cell_type": "markdown",
   "metadata": {
    "urth": {
     "dashboard": {
      "layout": {
       "col": 0,
       "height": 2,
       "row": 0,
       "width": 12
      }
     }
    }
   },
   "source": [
    "# Jupyter Notebook 2015 UX Survey Results"
   ]
  },
  {
   "cell_type": "markdown",
   "metadata": {
    "urth": {
     "dashboard": {
      "layout": {
       "col": 0,
       "height": 20,
       "row": 2,
       "width": 12
      }
     }
    }
   },
   "source": [
    "## Executive Summary\n",
    "\n",
    "The following are the key takeaways from our analysis of the survey response data. The remainder of this notebook gives evidence for these points.\n",
    "\n",
    "**Experienced Users**\n",
    "\n",
    "People who use Jupyter frequently (daily/weekly), who have been using it for more than a year, and who have been in their job role for 2+ years are most heavily represented in the survey data. The majority of respondants self-identify as data scientists, students, scientists, and researchers.\n",
    "\n",
    "**Like the Notebook Concept**\n",
    "\n",
    "Unsurprisingly, respondents state that they like the ability to quickly analyze, visualize, explore, and describe data in rich notebook documents that they can share. As such, the interactive computing paradigm should remain central to the user experience and continue to improve over time.\n",
    "\n",
    "**Need More than Notebooks**\n",
    "\n",
    "Respondents find that the Jupyter Notebook lacks features they require to complete their data analytics workflow. To address these gaps, the respondents request a wide variety of features and integrations. The most common requests are the following:\n",
    "\n",
    "* Version control (via git in particular)\n",
    "* Robust text and code editing (like in Emacs, Vim, Sublime, PyCharm)\n",
    "* Advanced code development tools (debugging, profiling, variable watching, code modularization)\n",
    "* Simpler export and deployment options (one-click transformations to slides, scripts, reports) \n",
    "\n",
    "The project roadmap should incorporate these suggestions to ensure that Jupyter continues to address the needs of end users.\n",
    "\n",
    "**Need More Help**\n",
    "\n",
    "Respondents state that installation of Jupyter Notebook should be easier to perform and understand, both for single users and groups of users. Respondents commonly cite documentation, tutorials, and help as ways to improve the situtation."
   ]
  },
  {
   "cell_type": "markdown",
   "metadata": {
    "urth": {
     "dashboard": {
      "hidden": true
     }
    }
   },
   "source": [
    "## About the Survey\n",
    "\n",
    "In late 2015, members of the Jupyter Community conducted a 16-question survey about the Jupyter Notebook user experience. The survey ran on [SurveyGizmo](https://www.surveygizmo.com/) from December 21, 2015 until January 15, 2016. Posts on the [Project Jupyter Google Group](https://groups.google.com/forum/#!topic/jupyter/XCzJ02Rzj0Y), on the [Jupyter blog](http://blog.jupyter.org/2015/12/22/jupyter-notebook-user-experience-survey/), and from the [@ProjectJupyter Twitter account](https://twitter.com/ProjectJupyter/status/684096608166776832) were used to share the survey link and solicit responses. At the conclusion of the survey, the raw response data were [posted to GitHub](https://github.com/jupyter/surveys/tree/master/surveys/2015-12-notebook-ux) along with a description of the data format."
   ]
  },
  {
   "cell_type": "markdown",
   "metadata": {
    "urth": {
     "dashboard": {
      "hidden": true
     }
    }
   },
   "source": [
    "## About our Analysis\n",
    "\n",
    "Starting with the raw response data, we ([@parente](https://github.com/parente), [@jtyberg](https://github.com/jtyberg)):\n",
    "\n",
    "1. Toyed with ways to [extract the salient points from the free text responses](prep/1_ux_survey_review.ipynb)\n",
    "2. Made the data [more pandas-friendly](prep/2_clean_survey.ipynb)\n",
    "3. Tried a few different approaches to [identifying keyword patterns and aggregating them into themes](prep/3a_hinderance_themes.ipynb)\n",
    "4. Repeated our keyword pattern search and theme annotation approach (see below) across all remaining free-text questions (e.g., [integration](prep/3b_integration_themes.ipynb), [needs addressed](prep/3c_needs_addressed_themes.ipynb), [needs not addressed](prep/3d_needs_not_addressed_themes.ipynb), etc.)\n",
    "5. Summarized our findings in this notebook.\n",
    "\n",
    "Step #4 constituted the bulk of the analysis work. The notebooks in the [prep](prep/) folder have all the details. The next section includes a brief summary of key terms from our methodology that are used in this report."
   ]
  },
  {
   "cell_type": "markdown",
   "metadata": {
    "urth": {
     "dashboard": {
      "hidden": true
     }
    }
   },
   "source": [
    "## About this Notebook\n",
    "\n",
    "In this notebook, we lend evidence to the claims made in the executive summary at the top of this notebook. We include written observations, plots, and interactive widgets for exploring the results.\n",
    "\n",
    "You may:\n",
    "\n",
    "1. View this notebook as a static webpage on [NBViewer](https://nbviewer.jupyter.org/github/jupyter/surveys/blob/master/surveys/2015-12-notebook-ux/analysis/report_dashboard.ipynb) or [GitHub](https://github.com/jupyter/surveys/blob/master/surveys/2015-12-notebook-ux/analysis/report_dashboard.ipynb). (No interactivity, one plot per section)\n",
    "2. Interact with the widgets in this notebook using [Binder](https://mybinder.org/v2/gh/jupyter/surveys/master). (Plot keywords vs themes, group by respondent categories, show counts or precentages within groups, modify the code yourself, click *View &rarr; Dashboard Preview* to see just the output)"
   ]
  },
  {
   "cell_type": "markdown",
   "metadata": {
    "urth": {
     "dashboard": {
      "layout": {
       "col": 0,
       "height": 8,
       "row": 22,
       "width": 12
      }
     }
    }
   },
   "source": [
    "<a name=\"key-terms\"></a>\n",
    "<div class=\"alert alert-info\"><b>Key Terms</b>\n",
    "<p>To best understand and interact with the plots below, keep the following in mind:</p>\n",
    "\n",
    "<ul>\n",
    "<li><b>Respondents</b> did not necessarily answer every survey question. We considered the available responses, regardless of whether the user answered other questions or not. As a result, the total response count varies across the plots below, especially when grouping by other response categories.</li>\n",
    "<li><b>Keyword patterns</b> are the common regular expression patterns we identified by sampling the responses. They represent terms and phrases that actually appear in the free-text responses. We optimized these for recall more than precision.</li>\n",
    "<li><b>Annotator themes</b> are our subjective groupings of keyword patterns. They are an attempt to identify common topics within the responses.</li>\n",
    "</ul>\n",
    "</div>"
   ]
  },
  {
   "cell_type": "code",
   "execution_count": 1,
   "metadata": {
    "urth": {
     "dashboard": {
      "hidden": true
     }
    }
   },
   "outputs": [],
   "source": [
    "import warnings\n",
    "warnings.simplefilter('ignore')"
   ]
  },
  {
   "cell_type": "code",
   "execution_count": 2,
   "metadata": {
    "urth": {
     "dashboard": {
      "hidden": true
     }
    }
   },
   "outputs": [],
   "source": [
    "%matplotlib inline"
   ]
  },
  {
   "cell_type": "code",
   "execution_count": 3,
   "metadata": {
    "urth": {
     "dashboard": {
      "hidden": true
     }
    }
   },
   "outputs": [],
   "source": [
    "import os\n",
    "import glob\n",
    "import pandas as pd\n",
    "import seaborn as sns"
   ]
  },
  {
   "cell_type": "code",
   "execution_count": 4,
   "metadata": {
    "urth": {
     "dashboard": {
      "hidden": true
     }
    }
   },
   "outputs": [],
   "source": [
    "%load_ext jupyter_cms"
   ]
  },
  {
   "cell_type": "markdown",
   "metadata": {
    "urth": {
     "dashboard": {
      "hidden": true
     }
    }
   },
   "source": [
    "Read the utils notebook which has all the plotting and widget routines. (We didn't want them all in here cluttering the static report.)"
   ]
  },
  {
   "cell_type": "code",
   "execution_count": 5,
   "metadata": {
    "urth": {
     "dashboard": {}
    }
   },
   "outputs": [],
   "source": [
    "utils = load_notebook('./prep/5_utils.ipynb')"
   ]
  },
  {
   "cell_type": "code",
   "execution_count": 6,
   "metadata": {
    "urth": {
     "dashboard": {
      "hidden": true
     }
    }
   },
   "outputs": [],
   "source": [
    "sns.set(rc={\"figure.figsize\": (14,6)})\n",
    "sns.set_palette(sns.color_palette(\"Set1\", n_colors=9, desat=0.6))"
   ]
  },
  {
   "cell_type": "markdown",
   "metadata": {
    "urth": {
     "dashboard": {
      "hidden": true
     }
    }
   },
   "source": [
    "Read the responses with shortened column names."
   ]
  },
  {
   "cell_type": "code",
   "execution_count": 7,
   "metadata": {
    "urth": {
     "dashboard": {
      "hidden": true
     }
    }
   },
   "outputs": [],
   "source": [
    "df = pd.read_csv('./prep/survey_short_columns.csv', index_col=0)"
   ]
  },
  {
   "cell_type": "markdown",
   "metadata": {
    "urth": {
     "dashboard": {
      "hidden": true
     }
    }
   },
   "source": [
    "Merge in the themes and keywords for the free-text questions."
   ]
  },
  {
   "cell_type": "code",
   "execution_count": 8,
   "metadata": {
    "urth": {
     "dashboard": {
      "hidden": true
     }
    }
   },
   "outputs": [],
   "source": [
    "files = glob.glob('./prep/*_themes.csv')\n",
    "files.append('./prep/roles.csv')\n",
    "for fn in files:\n",
    "    theme_df = pd.read_csv(fn, sep=';', index_col=0)\n",
    "    df = df.merge(theme_df, left_index=True, right_index=True, how='left')"
   ]
  },
  {
   "cell_type": "markdown",
   "metadata": {
    "urth": {
     "dashboard": {
      "hidden": true
     }
    }
   },
   "source": [
    "Cut-down the number of primary roles for better plotting. Keep the top 8 and bin the rest as \"other\"."
   ]
  },
  {
   "cell_type": "code",
   "execution_count": 9,
   "metadata": {
    "urth": {
     "dashboard": {
      "hidden": true
     }
    }
   },
   "outputs": [],
   "source": [
    "top_roles = df.roles_primary.value_counts()[:8].index"
   ]
  },
  {
   "cell_type": "code",
   "execution_count": 10,
   "metadata": {
    "urth": {
     "dashboard": {
      "hidden": true
     }
    }
   },
   "outputs": [],
   "source": [
    "df.loc[~df.roles_primary.isnull() & ~df.roles_primary.isin(top_roles), 'roles_primary'] = 'other'"
   ]
  },
  {
   "cell_type": "code",
   "execution_count": 11,
   "metadata": {
    "urth": {
     "dashboard": {
      "hidden": true
     }
    }
   },
   "outputs": [
    {
     "data": {
      "text/plain": [
       "data_scientist       162\n",
       "student              130\n",
       "scientist            101\n",
       "developer             84\n",
       "researcher            69\n",
       "other                 63\n",
       "engineer              45\n",
       "educator              40\n",
       "financial_analyst     28\n",
       "Name: roles_primary, dtype: int64"
      ]
     },
     "execution_count": 11,
     "metadata": {},
     "output_type": "execute_result"
    }
   ],
   "source": [
    "df.roles_primary.value_counts()"
   ]
  },
  {
   "cell_type": "markdown",
   "metadata": {
    "urth": {
     "dashboard": {
      "hidden": true
     }
    }
   },
   "source": [
    "When we group repsonses by primary role, order the legend from the largest cadre to the smallest."
   ]
  },
  {
   "cell_type": "code",
   "execution_count": 12,
   "metadata": {
    "urth": {
     "dashboard": {
      "hidden": true
     }
    }
   },
   "outputs": [],
   "source": [
    "utils.group_orders['roles_primary'] = top_roles.tolist()"
   ]
  },
  {
   "cell_type": "markdown",
   "metadata": {
    "urth": {
     "dashboard": {
      "layout": {
       "col": 0,
       "height": 4,
       "row": 30,
       "width": 12
      }
     }
    }
   },
   "source": [
    "## About the Survey Respondents\n",
    "\n",
    "We start with information about the respondants themselves. Most of the questions in this section have a fixed set of possible responses. Only one allows for free text responses."
   ]
  },
  {
   "cell_type": "markdown",
   "metadata": {
    "urth": {
     "dashboard": {
      "layout": {
       "col": 0,
       "height": 2,
       "row": 34,
       "width": 12
      }
     }
    }
   },
   "source": [
    "### How often do you use Jupyter Notebook?"
   ]
  },
  {
   "cell_type": "markdown",
   "metadata": {
    "urth": {
     "dashboard": {
      "layout": {
       "col": 0,
       "height": 6,
       "row": 36,
       "width": 2
      }
     }
    }
   },
   "source": [
    "The majority of respondants use the notebook on a daily and weekly basis."
   ]
  },
  {
   "cell_type": "code",
   "execution_count": 13,
   "metadata": {
    "urth": {
     "dashboard": {
      "layout": {
       "col": 2,
       "height": 14,
       "row": 36,
       "width": 10
      }
     }
    }
   },
   "outputs": [
    {
     "data": {
      "image/png": "[encoded data removed]",
      "text/plain": [
       "<Figure size 1008x432 with 1 Axes>"
      ]
     },
     "metadata": {},
     "output_type": "display_data"
    }
   ],
   "source": [
    "how_often_counts = df.how_often.value_counts().reindex(utils.group_orders['how_often'])\n",
    "ax = sns.barplot(how_often_counts.index, how_often_counts.values)\n",
    "ax.set_ylabel('Respondants')\n",
    "_ = ax.set_xlabel('Notebook Usage')"
   ]
  },
  {
   "cell_type": "markdown",
   "metadata": {
    "urth": {
     "dashboard": {
      "layout": {
       "col": 0,
       "height": 2,
       "row": 50,
       "width": 12
      }
     }
    }
   },
   "source": [
    "### Roughly how long have you been using Jupyter Notebook?"
   ]
  },
  {
   "cell_type": "markdown",
   "metadata": {
    "urth": {
     "dashboard": {
      "layout": {
       "col": 0,
       "height": 14,
       "row": 52,
       "width": 2
      }
     }
    }
   },
   "source": [
    "The majority of respondents have been Jupyter Notebook users for longer than a year."
   ]
  },
  {
   "cell_type": "code",
   "execution_count": 14,
   "metadata": {
    "urth": {
     "dashboard": {
      "layout": {
       "col": 2,
       "height": 14,
       "row": 52,
       "width": 10
      }
     }
    }
   },
   "outputs": [
    {
     "data": {
      "image/png": "[encoded data removed]",
      "text/plain": [
       "<Figure size 1008x432 with 1 Axes>"
      ]
     },
     "metadata": {},
     "output_type": "display_data"
    }
   ],
   "source": [
    "how_long_counts = df.how_long_used.value_counts().reindex(utils.group_orders['how_long_used'])\n",
    "ax = sns.barplot(how_long_counts.index, how_long_counts.values)\n",
    "ax.set_ylabel('Respondants')\n",
    "_ = ax.set_xlabel('Notebook Experience')"
   ]
  },
  {
   "cell_type": "markdown",
   "metadata": {
    "urth": {
     "dashboard": {
      "layout": {
       "col": 0,
       "height": 7,
       "row": 66,
       "width": 2
      }
     }
    }
   },
   "source": [
    "The distribution of frequency of use is skewed toward daily/weekly in both the more and less experienced user groups."
   ]
  },
  {
   "cell_type": "code",
   "execution_count": 15,
   "metadata": {
    "urth": {
     "dashboard": {
      "layout": {
       "col": 2,
       "height": 16,
       "row": 66,
       "width": 10
      }
     }
    }
   },
   "outputs": [
    {
     "data": {
      "image/png": "[encoded data removed]",
      "text/plain": [
       "<Figure size 1008x432 with 1 Axes>"
      ]
     },
     "metadata": {},
     "output_type": "display_data"
    }
   ],
   "source": [
    "long_x_often = pd.crosstab(df.how_long_used, df.how_often)\n",
    "long_x_often = long_x_often.reindex(utils.group_orders['how_long_used'], utils.group_orders['how_often'])\n",
    "long_x_often.columns.name = 'Notebook Usage'\n",
    "ax = long_x_often.plot(kind='bar')\n",
    "ax.set_ylabel('Respondents')\n",
    "ax.set_xlabel('Notebook Experience')\n",
    "_ = ax.set_xticklabels(ax.get_xmajorticklabels(), rotation=25, ha='right')"
   ]
  },
  {
   "cell_type": "markdown",
   "metadata": {
    "urth": {
     "dashboard": {
      "layout": {
       "col": 0,
       "height": 2,
       "row": 82,
       "width": 12
      }
     }
    }
   },
   "source": [
    "### What is your primary role when using Jupyter Notebook (e.g., student, astrophysicist, financial modeler, business manager, etc.)?"
   ]
  },
  {
   "cell_type": "markdown",
   "metadata": {
    "urth": {
     "dashboard": {
      "layout": {
       "col": 0,
       "height": 7,
       "row": 84,
       "width": 2
      }
     }
    }
   },
   "source": [
    "Most respondents name a single job role (e.g., data scientist). Some state more than one (e.g., student, practicing statistician). Data scientist, student, scientist, researcher, and developer are the most common."
   ]
  },
  {
   "cell_type": "code",
   "execution_count": 16,
   "metadata": {
    "urth": {
     "dashboard": {
      "layout": {
       "col": 2,
       "height": 19,
       "row": 84,
       "width": 10
      }
     }
    }
   },
   "outputs": [
    {
     "data": {
      "application/vnd.jupyter.widget-view+json": {
       "model_id": "0d82963174cd45ac940f27b53e722a0d",
       "version_major": 2,
       "version_minor": 0
      },
      "text/plain": [
       "interactive(children=(Dropdown(description='show', options=('Annotator themes', 'Keyword patterns'), value='An…"
      ]
     },
     "metadata": {},
     "output_type": "display_data"
    }
   ],
   "source": [
    "utils.explore(df, [df.roles_roles, df.roles_keywords], utils.default_labels[::-1])"
   ]
  },
  {
   "cell_type": "markdown",
   "metadata": {
    "urth": {
     "dashboard": {
      "layout": {
       "col": 0,
       "height": 2,
       "row": 103,
       "width": 12
      }
     }
    }
   },
   "source": [
    "### How many years have you been in this role?"
   ]
  },
  {
   "cell_type": "markdown",
   "metadata": {
    "urth": {
     "dashboard": {
      "layout": {
       "col": 0,
       "height": 3,
       "row": 105,
       "width": 2
      }
     }
    }
   },
   "source": [
    "Most respondents have 2+ years of experience in their job role."
   ]
  },
  {
   "cell_type": "code",
   "execution_count": 17,
   "metadata": {
    "urth": {
     "dashboard": {
      "layout": {
       "col": 2,
       "height": 14,
       "row": 105,
       "width": 10
      }
     }
    }
   },
   "outputs": [
    {
     "data": {
      "image/png": "[encoded data removed]",
      "text/plain": [
       "<Figure size 1008x432 with 1 Axes>"
      ]
     },
     "metadata": {},
     "output_type": "display_data"
    }
   ],
   "source": [
    "counts = df.years_in_role.value_counts()\n",
    "counts = counts.reindex(utils.group_orders['years_in_role'])\n",
    "ax = sns.barplot(counts.index, counts.values)\n",
    "ax.set_ylabel('Respondents')\n",
    "_ = ax.set_xlabel('Years in Job Role')"
   ]
  },
  {
   "cell_type": "markdown",
   "metadata": {
    "urth": {
     "dashboard": {
      "layout": {
       "col": 0,
       "height": 2,
       "row": 119,
       "width": 12
      }
     }
    }
   },
   "source": [
    "### How do you run the Jupyter Notebook?"
   ]
  },
  {
   "cell_type": "markdown",
   "metadata": {
    "urth": {
     "dashboard": {
      "layout": {
       "col": 0,
       "height": 14,
       "row": 121,
       "width": 2
      }
     }
    }
   },
   "source": [
    "The vast majority of respondants run Jupyter as a standalone application."
   ]
  },
  {
   "cell_type": "code",
   "execution_count": 18,
   "metadata": {
    "urth": {
     "dashboard": {
      "layout": {
       "col": 2,
       "height": 14,
       "row": 121,
       "width": 10
      }
     }
    }
   },
   "outputs": [
    {
     "data": {
      "image/png": "[encoded data removed]",
      "text/plain": [
       "<Figure size 1008x432 with 1 Axes>"
      ]
     },
     "metadata": {},
     "output_type": "display_data"
    }
   ],
   "source": [
    "counts = df.how_run.value_counts()\n",
    "counts = counts.reindex(utils.group_orders['how_run'])\n",
    "ax = sns.barplot(counts.index, counts.values)\n",
    "ax.set_ylabel('Respondents')\n",
    "_ = ax.set_xlabel('Notebook Environment')"
   ]
  },
  {
   "cell_type": "markdown",
   "metadata": {
    "urth": {
     "dashboard": {
      "layout": {
       "col": 0,
       "height": 5,
       "row": 135,
       "width": 2
      }
     }
    }
   },
   "source": [
    "Write-in responses vary widely. Many are more specific versions of \"as a standalone application.\""
   ]
  },
  {
   "cell_type": "code",
   "execution_count": 19,
   "metadata": {
    "scrolled": false,
    "urth": {
     "dashboard": {
      "layout": {
       "col": 2,
       "height": 17,
       "row": 135,
       "width": 10
      }
     }
    }
   },
   "outputs": [
    {
     "data": {
      "text/html": [
       "<div>\n",
       "<style scoped>\n",
       "    .dataframe tbody tr th:only-of-type {\n",
       "        vertical-align: middle;\n",
       "    }\n",
       "\n",
       "    .dataframe tbody tr th {\n",
       "        vertical-align: top;\n",
       "    }\n",
       "\n",
       "    .dataframe thead th {\n",
       "        text-align: right;\n",
       "    }\n",
       "</style>\n",
       "<table border=\"1\" class=\"dataframe\">\n",
       "  <thead>\n",
       "    <tr style=\"text-align: right;\">\n",
       "      <th></th>\n",
       "      <th>Random sample of 15 write-in responses</th>\n",
       "    </tr>\n",
       "  </thead>\n",
       "  <tbody>\n",
       "    <tr>\n",
       "      <th>0</th>\n",
       "      <td>Both</td>\n",
       "    </tr>\n",
       "    <tr>\n",
       "      <th>1</th>\n",
       "      <td>On top of Spark</td>\n",
       "    </tr>\n",
       "    <tr>\n",
       "      <th>2</th>\n",
       "      <td>PyCharm</td>\n",
       "    </tr>\n",
       "    <tr>\n",
       "      <th>3</th>\n",
       "      <td>Compute Cluster w/ SSH Tunnels</td>\n",
       "    </tr>\n",
       "    <tr>\n",
       "      <th>4</th>\n",
       "      <td>SageMath</td>\n",
       "    </tr>\n",
       "    <tr>\n",
       "      <th>5</th>\n",
       "      <td>standalone and cloud based</td>\n",
       "    </tr>\n",
       "    <tr>\n",
       "      <th>6</th>\n",
       "      <td>docker toolbox</td>\n",
       "    </tr>\n",
       "    <tr>\n",
       "      <th>7</th>\n",
       "      <td>Via custom makefile</td>\n",
       "    </tr>\n",
       "    <tr>\n",
       "      <th>8</th>\n",
       "      <td>Jupyter notebook at the command line</td>\n",
       "    </tr>\n",
       "    <tr>\n",
       "      <th>9</th>\n",
       "      <td>osx+conda on workstation, docker+pip on server</td>\n",
       "    </tr>\n",
       "    <tr>\n",
       "      <th>10</th>\n",
       "      <td>Dato</td>\n",
       "    </tr>\n",
       "    <tr>\n",
       "      <th>11</th>\n",
       "      <td>via \"ipython notebook\"</td>\n",
       "    </tr>\n",
       "    <tr>\n",
       "      <th>12</th>\n",
       "      <td>Browser</td>\n",
       "    </tr>\n",
       "    <tr>\n",
       "      <th>13</th>\n",
       "      <td>through emacs</td>\n",
       "    </tr>\n",
       "    <tr>\n",
       "      <th>14</th>\n",
       "      <td>anaconda</td>\n",
       "    </tr>\n",
       "  </tbody>\n",
       "</table>\n",
       "</div>"
      ],
      "text/plain": [
       "            Random sample of 15 write-in responses\n",
       "0                                             Both\n",
       "1                                  On top of Spark\n",
       "2                                          PyCharm\n",
       "3                   Compute Cluster w/ SSH Tunnels\n",
       "4                                         SageMath\n",
       "5                       standalone and cloud based\n",
       "6                                   docker toolbox\n",
       "7                              Via custom makefile\n",
       "8             Jupyter notebook at the command line\n",
       "9   osx+conda on workstation, docker+pip on server\n",
       "10                                            Dato\n",
       "11                          via \"ipython notebook\"\n",
       "12                                         Browser\n",
       "13                                   through emacs\n",
       "14                                        anaconda"
      ]
     },
     "execution_count": 19,
     "metadata": {},
     "output_type": "execute_result"
    }
   ],
   "source": [
    "df.how_run_other.dropna().sample(15).to_frame('Random sample of 15 write-in responses').reset_index(drop=True)"
   ]
  },
  {
   "cell_type": "markdown",
   "metadata": {
    "urth": {
     "dashboard": {
      "layout": {
       "col": 0,
       "height": 4,
       "row": 152,
       "width": 12
      }
     }
    }
   },
   "source": [
    "### How many people typically see and/or interact with the results of your work in Jupyter Notebook? \n",
    "\n",
    "*Consider people who view your notebooks on nbviewer, colleagues who rerun your notebooks, developers who star your notebook repos on GitHub, audiences who see your notebooks as slideshows, etc.*"
   ]
  },
  {
   "cell_type": "markdown",
   "metadata": {
    "urth": {
     "dashboard": {
      "layout": {
       "col": 0,
       "height": 6,
       "row": 156,
       "width": 2
      }
     }
    }
   },
   "source": [
    "Most of the respondents create notebooks for tens or hundreds of users. Few write for thousands of users or more."
   ]
  },
  {
   "cell_type": "code",
   "execution_count": 20,
   "metadata": {
    "urth": {
     "dashboard": {
      "layout": {
       "col": 2,
       "height": 14,
       "row": 156,
       "width": 10
      }
     }
    }
   },
   "outputs": [
    {
     "data": {
      "image/png": "[encoded data removed]",
      "text/plain": [
       "<Figure size 1008x432 with 1 Axes>"
      ]
     },
     "metadata": {},
     "output_type": "display_data"
    }
   ],
   "source": [
    "counts = df.audience_size.value_counts()\n",
    "counts = counts.reindex(utils.group_orders['audience_size'])\n",
    "ax = sns.barplot(counts.index, counts.values)\n",
    "ax.set_ylabel('Respondants')\n",
    "_ = ax.set_xlabel('Typical Notebook Audience')"
   ]
  },
  {
   "cell_type": "markdown",
   "metadata": {
    "urth": {
     "dashboard": {
      "layout": {
       "col": 0,
       "height": 5,
       "row": 170,
       "width": 12
      }
     }
    }
   },
   "source": [
    "## What the Respondents Said\n",
    "\n",
    "Now we look at responses to questions about the notebook. All of the questions in this section have free-text responses. Revisit the blue **Key Terms** section at the top for help reading the plots."
   ]
  },
  {
   "cell_type": "markdown",
   "metadata": {
    "urth": {
     "dashboard": {
      "layout": {
       "col": 0,
       "height": 2,
       "row": 175,
       "width": 12
      }
     }
    }
   },
   "source": [
    "### What needs in your workflow does Jupyter Notebook address?"
   ]
  },
  {
   "cell_type": "markdown",
   "metadata": {
    "urth": {
     "dashboard": {
      "layout": {
       "col": 0,
       "height": 7,
       "row": 177,
       "width": 2
      }
     }
    }
   },
   "source": [
    "Respondents frequently indicate that Jupyter Notebook addresses their need to analyze, explore, visualize, interact with, and document data quickly and easily."
   ]
  },
  {
   "cell_type": "code",
   "execution_count": 21,
   "metadata": {
    "urth": {
     "dashboard": {
      "layout": {
       "col": 2,
       "height": 19,
       "row": 177,
       "width": 10
      }
     }
    }
   },
   "outputs": [
    {
     "data": {
      "application/vnd.jupyter.widget-view+json": {
       "model_id": "b74a1f5e855e45638d40d736eb25dbb3",
       "version_major": 2,
       "version_minor": 0
      },
      "text/plain": [
       "interactive(children=(Dropdown(description='show', options=('Keyword patterns',), value='Keyword patterns'), D…"
      ]
     },
     "metadata": {},
     "output_type": "display_data"
    }
   ],
   "source": [
    "utils.explore(df, [df.workflow_needs_addressed_keywords], \n",
    "              labels=['Keyword patterns'])"
   ]
  },
  {
   "cell_type": "markdown",
   "metadata": {
    "urth": {
     "dashboard": {
      "layout": {
       "col": 0,
       "height": 2,
       "row": 196,
       "width": 12
      }
     }
    }
   },
   "source": [
    "### What aspects of Jupyter Notebook make it pleasant to use in your workflow?"
   ]
  },
  {
   "cell_type": "markdown",
   "metadata": {
    "urth": {
     "dashboard": {
      "layout": {
       "col": 0,
       "height": 7,
       "row": 198,
       "width": 2
      }
     }
    }
   },
   "source": [
    "Ease of use, the tight interactive workflow, and the ability to combine inline markup with rich media top the list of pleasant aspects noted by respondents."
   ]
  },
  {
   "cell_type": "code",
   "execution_count": 22,
   "metadata": {
    "urth": {
     "dashboard": {
      "layout": {
       "col": 2,
       "height": 20,
       "row": 198,
       "width": 10
      }
     }
    }
   },
   "outputs": [
    {
     "data": {
      "application/vnd.jupyter.widget-view+json": {
       "model_id": "2f985eb4c1fb4e33baa278805b8ed741",
       "version_major": 2,
       "version_minor": 0
      },
      "text/plain": [
       "interactive(children=(Dropdown(description='show', options=('Keyword patterns', 'Annotator themes'), value='Ke…"
      ]
     },
     "metadata": {},
     "output_type": "display_data"
    }
   ],
   "source": [
    "utils.explore(df, [df.pleasant_aspects_keywords, df.pleasant_aspects_themes])"
   ]
  },
  {
   "cell_type": "markdown",
   "metadata": {
    "urth": {
     "dashboard": {
      "layout": {
       "col": 0,
       "height": 2,
       "row": 218,
       "width": 12
      }
     }
    }
   },
   "source": [
    "### What, if anything, hinders you from making Jupyter Notebook an even more regular part of your workflow?"
   ]
  },
  {
   "cell_type": "markdown",
   "metadata": {
    "urth": {
     "dashboard": {
      "layout": {
       "col": 0,
       "height": 10,
       "row": 220,
       "width": 2
      }
     }
    }
   },
   "source": [
    "Respondants cite the need for better development tools as the main blocker more regular use of the notebook. More robust text editing capability, version control, cleaner integration with languages and tools, and better documentation all top the list."
   ]
  },
  {
   "cell_type": "code",
   "execution_count": 23,
   "metadata": {
    "urth": {
     "dashboard": {
      "layout": {
       "col": 2,
       "height": 19,
       "row": 220,
       "width": 10
      }
     }
    }
   },
   "outputs": [
    {
     "data": {
      "application/vnd.jupyter.widget-view+json": {
       "model_id": "95e68c00332e407dbdc36cb6fe5eb8c6",
       "version_major": 2,
       "version_minor": 0
      },
      "text/plain": [
       "interactive(children=(Dropdown(description='show', options=('Keyword patterns', 'Annotator themes'), value='Ke…"
      ]
     },
     "metadata": {},
     "output_type": "display_data"
    }
   ],
   "source": [
    "utils.explore(df, [df.hinderances_keywords, df.hinderances_themes])"
   ]
  },
  {
   "cell_type": "markdown",
   "metadata": {
    "urth": {
     "dashboard": {
      "layout": {
       "col": 0,
       "height": 2,
       "row": 239,
       "width": 12
      }
     }
    }
   },
   "source": [
    "### What needs in your workflow does Jupyter Notebook not address?"
   ]
  },
  {
   "cell_type": "markdown",
   "metadata": {
    "urth": {
     "dashboard": {
      "layout": {
       "col": 0,
       "height": 8,
       "row": 241,
       "width": 2
      }
     }
    }
   },
   "source": [
    "As expected, nearly the same themes and keywords that top the hinderances list also top the list of workflow needs not addressed by the Jupyter Notebook today."
   ]
  },
  {
   "cell_type": "code",
   "execution_count": 24,
   "metadata": {
    "urth": {
     "dashboard": {
      "layout": {
       "col": 2,
       "height": 19,
       "row": 241,
       "width": 10
      }
     }
    }
   },
   "outputs": [
    {
     "data": {
      "application/vnd.jupyter.widget-view+json": {
       "model_id": "28574327310c44548001fdc555faecb5",
       "version_major": 2,
       "version_minor": 0
      },
      "text/plain": [
       "interactive(children=(Dropdown(description='show', options=('Keyword patterns', 'Annotator themes'), value='Ke…"
      ]
     },
     "metadata": {},
     "output_type": "display_data"
    }
   ],
   "source": [
    "utils.explore(df, [df.workflow_needs_not_addressed_keywords, df.workflow_needs_not_addressed_themes])"
   ]
  },
  {
   "cell_type": "markdown",
   "metadata": {
    "urth": {
     "dashboard": {
      "layout": {
       "col": 0,
       "height": 2,
       "row": 260,
       "width": 12
      }
     }
    }
   },
   "source": [
    "### What aspects of Jupyter Notebook make it difficult to use in your workflow?"
   ]
  },
  {
   "cell_type": "markdown",
   "metadata": {
    "urth": {
     "dashboard": {
      "layout": {
       "col": 0,
       "height": 10,
       "row": 262,
       "width": 2
      }
     }
    }
   },
   "source": [
    "Respondents most often report difficulty with code editing, installing the application, working in the browser, version controlling notebooks, and working without the support of a full IDE."
   ]
  },
  {
   "cell_type": "code",
   "execution_count": 25,
   "metadata": {
    "urth": {
     "dashboard": {
      "layout": {
       "col": 2,
       "height": 20,
       "row": 262,
       "width": 10
      }
     }
    }
   },
   "outputs": [
    {
     "data": {
      "application/vnd.jupyter.widget-view+json": {
       "model_id": "cba90918b1b649f1bc39dad563dcb690",
       "version_major": 2,
       "version_minor": 0
      },
      "text/plain": [
       "interactive(children=(Dropdown(description='show', options=('Keyword patterns', 'Annotator themes'), value='Ke…"
      ]
     },
     "metadata": {},
     "output_type": "display_data"
    }
   ],
   "source": [
    "utils.explore(df, [df.difficult_aspects_keywords, df.difficult_aspects_themes])"
   ]
  },
  {
   "cell_type": "markdown",
   "metadata": {
    "urth": {
     "dashboard": {
      "layout": {
       "col": 0,
       "height": 2,
       "row": 282,
       "width": 12
      }
     }
    }
   },
   "source": [
    "### What tools and applications, if any, would you like to see more tightly integrated with Jupyter Notebook?"
   ]
  },
  {
   "cell_type": "markdown",
   "metadata": {
    "urth": {
     "dashboard": {
      "layout": {
       "col": 0,
       "height": 12,
       "row": 284,
       "width": 2
      }
     }
    }
   },
   "source": [
    "Git is by far and away the most oft requested integration. Specific tools like vim, d3, matplotlib, R and Spark as well as general concepts like interactivity, debugging, better editors, and version control are also mentioned frequently."
   ]
  },
  {
   "cell_type": "code",
   "execution_count": 26,
   "metadata": {
    "urth": {
     "dashboard": {
      "layout": {
       "col": 2,
       "height": 20,
       "row": 284,
       "width": 10
      }
     }
    }
   },
   "outputs": [
    {
     "data": {
      "application/vnd.jupyter.widget-view+json": {
       "model_id": "989f518ab6b94951add376fe93627903",
       "version_major": 2,
       "version_minor": 0
      },
      "text/plain": [
       "interactive(children=(Dropdown(description='show', options=('Keyword patterns', 'Annotator themes'), value='Ke…"
      ]
     },
     "metadata": {},
     "output_type": "display_data"
    }
   ],
   "source": [
    "utils.explore(df, [df.integrations_keywords, df.integrations_themes])"
   ]
  },
  {
   "cell_type": "markdown",
   "metadata": {
    "urth": {
     "dashboard": {
      "layout": {
       "col": 0,
       "height": 3,
       "row": 304,
       "width": 12
      }
     }
    }
   },
   "source": [
    "### What new features or changes would you like to see in Jupyter Notebook?\n",
    "\n",
    "*Please list anything that comes to mind that helps you in your workflow, big or small.*"
   ]
  },
  {
   "cell_type": "markdown",
   "metadata": {
    "urth": {
     "dashboard": {
      "layout": {
       "col": 0,
       "height": 13,
       "row": 307,
       "width": 2
      }
     }
    }
   },
   "source": [
    "Version control with Git also tops the list of requested features and changes. Adding a workspace/IDE to the user experience, supporting custom styles (both visual and functional, ala keymaps), embedding ancillary tools (e.g., filebrowser sidebar), and behaving more like major text editors (e.g., Vim, Atom, Sublime) are also common requests."
   ]
  },
  {
   "cell_type": "code",
   "execution_count": 27,
   "metadata": {
    "urth": {
     "dashboard": {
      "layout": {
       "col": 2,
       "height": 20,
       "row": 307,
       "width": 10
      }
     }
    }
   },
   "outputs": [
    {
     "data": {
      "application/vnd.jupyter.widget-view+json": {
       "model_id": "1cbaefe991dd45ac8ab3a6cf8be83635",
       "version_major": 2,
       "version_minor": 0
      },
      "text/plain": [
       "interactive(children=(Dropdown(description='show', options=('Keyword patterns', 'Annotator themes'), value='Ke…"
      ]
     },
     "metadata": {},
     "output_type": "display_data"
    }
   ],
   "source": [
    "utils.explore(df, [df.features_changes_keywords, df.features_changes_themes])"
   ]
  },
  {
   "cell_type": "markdown",
   "metadata": {
    "urth": {
     "dashboard": {
      "layout": {
       "col": 0,
       "height": 3,
       "row": 327,
       "width": 12
      }
     }
    }
   },
   "source": [
    "### Thinking back to when you first started using Jupyter Notebook, what enhancements would have made your initial experience better?"
   ]
  },
  {
   "cell_type": "markdown",
   "metadata": {
    "urth": {
     "dashboard": {
      "layout": {
       "col": 0,
       "height": 9,
       "row": 330,
       "width": 2
      }
     }
    }
   },
   "source": [
    "Respondents most frequently name installation improvements, better documentation, a better keyboard map, and tutorials as enhancements that would have improved their first experience."
   ]
  },
  {
   "cell_type": "code",
   "execution_count": 28,
   "metadata": {
    "urth": {
     "dashboard": {
      "layout": {
       "col": 2,
       "height": 20,
       "row": 330,
       "width": 10
      }
     }
    }
   },
   "outputs": [
    {
     "data": {
      "application/vnd.jupyter.widget-view+json": {
       "model_id": "1912ddec29bf4da39dc4a8d185b5a199",
       "version_major": 2,
       "version_minor": 0
      },
      "text/plain": [
       "interactive(children=(Dropdown(description='show', options=('Keyword patterns', 'Annotator themes'), value='Ke…"
      ]
     },
     "metadata": {},
     "output_type": "display_data"
    }
   ],
   "source": [
    "utils.explore(df, [df.first_experience_enhancements_keywords, df.first_experience_enhancements_themes])"
   ]
  },
  {
   "cell_type": "markdown",
   "metadata": {
    "urth": {
     "dashboard": {
      "layout": {
       "col": 0,
       "height": 2,
       "row": 350,
       "width": 12
      }
     }
    }
   },
   "source": [
    "### Select all the words that best describe Jupyter Notebook."
   ]
  },
  {
   "cell_type": "markdown",
   "metadata": {
    "urth": {
     "dashboard": {
      "layout": {
       "col": 0,
       "height": 19,
       "row": 352,
       "width": 2
      }
     }
    }
   },
   "source": [
    "Respondents select positive words to describe Jupyter Notebook far more often than negative words. The convenience of the notebook stands out."
   ]
  },
  {
   "cell_type": "code",
   "execution_count": 29,
   "metadata": {
    "urth": {
     "dashboard": {
      "layout": {
       "col": 2,
       "height": 19,
       "row": 352,
       "width": 10
      }
     }
    }
   },
   "outputs": [
    {
     "data": {
      "application/vnd.jupyter.widget-view+json": {
       "model_id": "df287be33d9e472f8550e0b9d8588897",
       "version_major": 2,
       "version_minor": 0
      },
      "text/plain": [
       "interactive(children=(Dropdown(description='show', options=('Fixed keywords',), value='Fixed keywords'), Dropd…"
      ]
     },
     "metadata": {},
     "output_type": "display_data"
    }
   ],
   "source": [
    "utils.explore(df, [df.keywords.str.replace(';',',')], ['Fixed keywords'])"
   ]
  },
  {
   "cell_type": "markdown",
   "metadata": {
    "urth": {
     "dashboard": {
      "layout": {
       "col": 0,
       "height": 10,
       "row": 371,
       "width": 2
      }
     }
    }
   },
   "source": [
    "*Powerful* tops the list of write-in responses. The long-tail varys quite a bit, with both positive and negative sentiments expressed."
   ]
  },
  {
   "cell_type": "code",
   "execution_count": 30,
   "metadata": {
    "urth": {
     "dashboard": {
      "layout": {
       "col": 2,
       "height": 12,
       "row": 371,
       "width": 6
      }
     }
    }
   },
   "outputs": [
    {
     "data": {
      "text/html": [
       "<div>\n",
       "<style scoped>\n",
       "    .dataframe tbody tr th:only-of-type {\n",
       "        vertical-align: middle;\n",
       "    }\n",
       "\n",
       "    .dataframe tbody tr th {\n",
       "        vertical-align: top;\n",
       "    }\n",
       "\n",
       "    .dataframe thead th {\n",
       "        text-align: right;\n",
       "    }\n",
       "</style>\n",
       "<table border=\"1\" class=\"dataframe\">\n",
       "  <thead>\n",
       "    <tr style=\"text-align: right;\">\n",
       "      <th></th>\n",
       "      <th>Respondents</th>\n",
       "    </tr>\n",
       "  </thead>\n",
       "  <tbody>\n",
       "    <tr>\n",
       "      <th>powerful</th>\n",
       "      <td>8</td>\n",
       "    </tr>\n",
       "    <tr>\n",
       "      <th>awesome</th>\n",
       "      <td>4</td>\n",
       "    </tr>\n",
       "    <tr>\n",
       "      <th>essential</th>\n",
       "      <td>2</td>\n",
       "    </tr>\n",
       "    <tr>\n",
       "      <th>magic</th>\n",
       "      <td>2</td>\n",
       "    </tr>\n",
       "    <tr>\n",
       "      <th>interactive</th>\n",
       "      <td>2</td>\n",
       "    </tr>\n",
       "    <tr>\n",
       "      <th>wildly underdocumented</th>\n",
       "      <td>1</td>\n",
       "    </tr>\n",
       "    <tr>\n",
       "      <th>powerful, if you can get just what you want.</th>\n",
       "      <td>1</td>\n",
       "    </tr>\n",
       "    <tr>\n",
       "      <th>handy</th>\n",
       "      <td>1</td>\n",
       "    </tr>\n",
       "    <tr>\n",
       "      <th>gamechanging</th>\n",
       "      <td>1</td>\n",
       "    </tr>\n",
       "    <tr>\n",
       "      <th>hard to change basic editor behavior</th>\n",
       "      <td>1</td>\n",
       "    </tr>\n",
       "  </tbody>\n",
       "</table>\n",
       "</div>"
      ],
      "text/plain": [
       "                                              Respondents\n",
       "powerful                                                8\n",
       "awesome                                                 4\n",
       "essential                                               2\n",
       "magic                                                   2\n",
       "interactive                                             2\n",
       "wildly underdocumented                                  1\n",
       "powerful, if you can get just what you want.            1\n",
       "handy                                                   1\n",
       "gamechanging                                            1\n",
       "hard to change basic editor behavior                    1"
      ]
     },
     "execution_count": 30,
     "metadata": {},
     "output_type": "execute_result"
    }
   ],
   "source": [
    "df.keywords_other.str.lower().value_counts().head(10).to_frame('Respondents')"
   ]
  },
  {
   "cell_type": "markdown",
   "metadata": {
    "urth": {
     "dashboard": {
      "layout": {
       "col": 0,
       "height": 8,
       "row": 383,
       "width": 12
      }
     }
    }
   },
   "source": [
    "## Conclusion and Next Steps\n",
    "\n",
    "From this survey we learned that experienced users like the notebook concept for its simplicity in quickly exploring, visualizing, and describing data, but they need more than notebooks in their analytics workflow, and they suggest all users need more help getting started. Going forward, we recommend that the Jupyter community:\n",
    "\n",
    "* Constantly ensure that the Jupyter Notebook retains what users value today\n",
    "* Work solutions to the most common hinderances and feature requests into the Jupyter roadmap\n",
    "* Run more specific user experience studies / surveys in the future about major changes and additions \n",
    "    * For example, if a first pass of git integration lands on jupyter/notebook master, stand up a Binder with that feature enabled, and invite users to try it before landing it in a stable Jupyter release."
   ]
  }
 ],
 "metadata": {
  "kernelspec": {
   "display_name": "Python 3",
   "language": "python",
   "name": "python3"
  },
  "language_info": {
   "codemirror_mode": {
    "name": "ipython",
    "version": 3
   },
   "file_extension": ".py",
   "mimetype": "text/x-python",
   "name": "python",
   "nbconvert_exporter": "python",
   "pygments_lexer": "ipython3",
   "version": "3.6.6"
  },
  "urth": {
   "dashboard": {
    "cellMargin": 10,
    "defaultCellHeight": 20,
    "layoutStrategy": "stacked",
    "maxColumns": 12
   }
  }
 },
 "nbformat": 4,
 "nbformat_minor": 1
}
